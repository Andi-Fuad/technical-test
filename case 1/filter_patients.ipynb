{
 "cells": [
  {
   "cell_type": "markdown",
   "id": "d36e635e-699f-4841-8c2b-c141b3abaa2c",
   "metadata": {},
   "source": [
    "# Import Library"
   ]
  },
  {
   "cell_type": "code",
   "execution_count": 1,
   "id": "25e41242-f023-4921-8cb8-1332534246cc",
   "metadata": {},
   "outputs": [],
   "source": [
    "import pandas as pd\n",
    "import os"
   ]
  },
  {
   "cell_type": "markdown",
   "id": "b8304968-5775-4ca3-aeb9-159a498c64a7",
   "metadata": {},
   "source": [
    "# Create the CSV File"
   ]
  },
  {
   "cell_type": "code",
   "execution_count": 2,
   "id": "27665185-7efd-480e-a62a-8eed9b9b857d",
   "metadata": {},
   "outputs": [],
   "source": [
    "# Define the data for the CSV file\n",
    "data = {\n",
    "    'id': [1, 2, 3, 4, 5, 6, 7, 8, 9, 10],\n",
    "    'name': ['Andi', 'Budi', 'Citra', 'Dita', 'Eka', 'Fitra', 'Gio', 'Harianto', 'Idul', 'Jaka'],\n",
    "    'age': [45, 29, 62, 30, 18, 49, 49, 33, 88, 54],\n",
    "    'symptoms': [\n",
    "        \"demam, batuk, sesak napas\",\n",
    "        \"mual, sakit perut\",\n",
    "        \"pusing, kehilangan keseimbangan\",\n",
    "        \"susah tidur\",\n",
    "        \"gusi berdarah\",\n",
    "        \"pusing, sakit perut\",\n",
    "        \"menggigil, batuk, sakit kepala\",\n",
    "        \"memar di tangan\",\n",
    "        \"susah tidur\",\n",
    "        \"sesak nafas\"\n",
    "    ]\n",
    "}"
   ]
  },
  {
   "cell_type": "code",
   "execution_count": 3,
   "id": "57792602-90e8-4ad9-938c-1e48ce398143",
   "metadata": {},
   "outputs": [],
   "source": [
    "# Create a DataFrame\n",
    "df_create = pd.DataFrame(data)"
   ]
  },
  {
   "cell_type": "code",
   "execution_count": 7,
   "id": "2f4da7f2-25d8-48e3-b0f0-1e344caae9eb",
   "metadata": {},
   "outputs": [
    {
     "name": "stdout",
     "output_type": "stream",
     "text": [
      "File 'patients.csv' berhasil dibuat.\n"
     ]
    }
   ],
   "source": [
    "# Define the CSV file name\n",
    "csv_file_name = 'patients.csv'\n",
    "\n",
    "# Check if the CSV file already exists\n",
    "if not os.path.exists(csv_file_name):\n",
    "    # Save the DataFrame to a CSV file\n",
    "    df_create.to_csv(csv_file_name, index=False)\n",
    "    print(f\"File '{csv_file_name}' berhasil dibuat.\")\n",
    "else:\n",
    "    print(f\"File '{csv_file_name}' sudah ada. Melewati pembuatan file.\")"
   ]
  },
  {
   "cell_type": "markdown",
   "id": "0900069a-7275-41f7-a0e5-0504a31753ca",
   "metadata": {},
   "source": [
    "# Task"
   ]
  },
  {
   "cell_type": "markdown",
   "id": "f81ea2b1-01f6-4454-8621-ac7fe7070a5f",
   "metadata": {},
   "source": [
    "## Loads the CSV"
   ]
  },
  {
   "cell_type": "code",
   "execution_count": 8,
   "id": "4fe4b88b-bfc6-4e2b-bedd-94fe97b423fc",
   "metadata": {},
   "outputs": [
    {
     "name": "stdout",
     "output_type": "stream",
     "text": [
      "File 'patients.csv' berhasil dimuat.\n",
      "\n",
      "Data mentah:\n",
      "   id      name  age                         symptoms\n",
      "0   1      Andi   45        demam, batuk, sesak napas\n",
      "1   2      Budi   29                mual, sakit perut\n",
      "2   3     Citra   62  pusing, kehilangan keseimbangan\n",
      "3   4      Dita   30                      susah tidur\n",
      "4   5       Eka   18                    gusi berdarah\n",
      "5   6     Fitra   49              pusing, sakit perut\n",
      "6   7       Gio   49   menggigil, batuk, sakit kepala\n",
      "7   8  Harianto   33                  memar di tangan\n",
      "8   9      Idul   88                      susah tidur\n",
      "9  10      Jaka   54                      sesak nafas\n"
     ]
    }
   ],
   "source": [
    "# Load the CSV file\n",
    "try:\n",
    "    df = pd.read_csv(csv_file_name)\n",
    "    print(f\"File '{csv_file_name}' berhasil dimuat.\")\n",
    "except FileNotFoundError:\n",
    "    print(f\"Error: File '{csv_file_name}' tidak ditemukan. Pastikan file ada di direktori yang sama.\")\n",
    "    exit()\n",
    "\n",
    "print(\"\\nData mentah:\")\n",
    "print(df)"
   ]
  },
  {
   "cell_type": "markdown",
   "id": "03b0bfaa-77d7-43d0-bc4c-5e1a5a2a5b4d",
   "metadata": {},
   "source": [
    "## Tokenizes the symptoms into lists"
   ]
  },
  {
   "cell_type": "code",
   "execution_count": 9,
   "id": "a7731f95-9479-4b1c-ba13-7888f1264b8f",
   "metadata": {},
   "outputs": [
    {
     "name": "stdout",
     "output_type": "stream",
     "text": [
      "\n",
      "Gejala setelah tokenisasi:\n",
      "   id      name                      symptoms_list\n",
      "0   1      Andi        [demam, batuk, sesak napas]\n",
      "1   2      Budi                [mual, sakit perut]\n",
      "2   3     Citra  [pusing, kehilangan keseimbangan]\n",
      "3   4      Dita                      [susah tidur]\n",
      "4   5       Eka                    [gusi berdarah]\n",
      "5   6     Fitra              [pusing, sakit perut]\n",
      "6   7       Gio   [menggigil, batuk, sakit kepala]\n",
      "7   8  Harianto                  [memar di tangan]\n",
      "8   9      Idul                      [susah tidur]\n",
      "9  10      Jaka                      [sesak nafas]\n"
     ]
    }
   ],
   "source": [
    "# Apply a function to split the symptoms\n",
    "df['symptoms_list'] = df['symptoms'].apply(lambda x: [s.strip() for s in x.split(',')])\n",
    "print(\"\\nGejala setelah tokenisasi:\")\n",
    "print(df[['id', 'name', 'symptoms_list']])"
   ]
  },
  {
   "cell_type": "markdown",
   "id": "ed1a280b-ea26-4780-b7ef-272829bf2fe9",
   "metadata": {},
   "source": [
    "## Filters patients older than 40 with more than 2 symptoms"
   ]
  },
  {
   "cell_type": "code",
   "execution_count": 18,
   "id": "a9311885-d3cd-4016-8a48-0bf8729dbcc5",
   "metadata": {},
   "outputs": [],
   "source": [
    "# First, filter by age\n",
    "filtered_by_age = df[df['age'] > 40]"
   ]
  },
  {
   "cell_type": "code",
   "execution_count": 20,
   "id": "8a888589-8ced-44bb-98cd-cc4d3acac135",
   "metadata": {},
   "outputs": [
    {
     "name": "stdout",
     "output_type": "stream",
     "text": [
      "\n",
      "Pasien yang disaring (usia > 40 dan gejala > 2):\n",
      "   id  name  age                     symptoms_list\n",
      "0   1  Andi   45       [demam, batuk, sesak napas]\n",
      "6   7   Gio   49  [menggigil, batuk, sakit kepala]\n"
     ]
    }
   ],
   "source": [
    "# Then, filter by the number of symptoms (length of the symptoms_list)\n",
    "filtered_patients = filtered_by_age[\n",
    "    filtered_by_age['symptoms_list'].apply(lambda x: len(x) > 2 if isinstance(x, list) else False)\n",
    "]\n",
    "\n",
    "print(\"\\nPasien yang disaring (usia > 40 dan gejala > 2):\")\n",
    "print(filtered_patients[['id', 'name', 'age', 'symptoms_list']])"
   ]
  }
 ],
 "metadata": {
  "kernelspec": {
   "display_name": "Python [conda env:base] *",
   "language": "python",
   "name": "conda-base-py"
  },
  "language_info": {
   "codemirror_mode": {
    "name": "ipython",
    "version": 3
   },
   "file_extension": ".py",
   "mimetype": "text/x-python",
   "name": "python",
   "nbconvert_exporter": "python",
   "pygments_lexer": "ipython3",
   "version": "3.12.7"
  }
 },
 "nbformat": 4,
 "nbformat_minor": 5
}
